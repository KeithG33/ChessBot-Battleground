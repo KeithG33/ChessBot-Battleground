{
 "cells": [
  {
   "cell_type": "markdown",
   "metadata": {},
   "source": [
    "#### Example Inference Notebook\n",
    "\n",
    "Quick start on the available functions for running games with your models."
   ]
  },
  {
   "cell_type": "code",
   "execution_count": null,
   "metadata": {},
   "outputs": [],
   "source": [
    "%cd ../../"
   ]
  },
  {
   "cell_type": "markdown",
   "metadata": {},
   "source": [
    "##### Run a game of self-play\n",
    "\n",
    "The `selfplay` function runs inference with a single model playing black and white. \n",
    "- Set `search=True` to optionally wrap the model in a MCTS class for search capability`.\n",
    "- Set `num_sims=n` to control how many monte-carlo simulations are performed.\n",
    "\n",
    "The returned value is the outcome of the game from white's perspective. A return of 0 is a draw, 1 is white winning, -1 is black winning."
   ]
  },
  {
   "cell_type": "code",
   "execution_count": null,
   "metadata": {},
   "outputs": [],
   "source": [
    "from chessbot.inference import selfplay\n",
    "from simple_chessnet import SimpleChessNet\n",
    "\n",
    "model1 = SimpleChessNet()\n",
    "outcome = selfplay(model1, search=True, num_sims=250, visualize=True)\n"
   ]
  },
  {
   "cell_type": "markdown",
   "metadata": {},
   "source": [
    "#### Run a Match Between Two Models\n",
    "\n",
    "In this case two models will play a best-of-n match to determine the winner. The returned `scores` is a tuple of scores for each player. The scores are counted with +1 for win, 0 for loss, and 0.5 for draw.\n",
    "\n",
    "The usage is the same as before, except for an additional model, and a new param for `best_of`, which controls the number of games in the best-of."
   ]
  },
  {
   "cell_type": "code",
   "execution_count": null,
   "metadata": {},
   "outputs": [],
   "source": [
    "from chessbot.inference import duel\n",
    "from simple_chessnet import SimpleChessNet\n",
    "\n",
    "model1 = SimpleChessNet()\n",
    "model2 = SimpleChessNet()\n",
    "scores = duel(model1, model2, best_of=7)"
   ]
  }
 ],
 "metadata": {
  "kernelspec": {
   "display_name": "chessvenv",
   "language": "python",
   "name": "python3"
  },
  "language_info": {
   "codemirror_mode": {
    "name": "ipython",
    "version": 3
   },
   "file_extension": ".py",
   "mimetype": "text/x-python",
   "name": "python",
   "nbconvert_exporter": "python",
   "pygments_lexer": "ipython3",
   "version": "3.11.10"
  }
 },
 "nbformat": 4,
 "nbformat_minor": 2
}

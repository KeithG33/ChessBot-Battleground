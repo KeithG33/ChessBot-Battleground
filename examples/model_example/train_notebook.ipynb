{
 "cells": [
  {
   "cell_type": "markdown",
   "metadata": {},
   "source": [
    "### ChessBot Package - Example Training Notebook"
   ]
  },
  {
   "cell_type": "code",
   "execution_count": 1,
   "metadata": {},
   "outputs": [],
   "source": [
    "import os\n",
    "import sys\n",
    "\n",
    "sys.path.append('../../')\n",
    "import chessbot"
   ]
  },
  {
   "cell_type": "code",
   "execution_count": 2,
   "metadata": {},
   "outputs": [
    {
     "name": "stderr",
     "output_type": "stream",
     "text": [
      "/home/kage/chess_workspace/chessvenv/lib/python3.11/site-packages/tqdm/auto.py:21: TqdmWarning: IProgress not found. Please update jupyter and ipywidgets. See https://ipywidgets.readthedocs.io/en/stable/user_install.html\n",
      "  from .autonotebook import tqdm as notebook_tqdm\n"
     ]
    }
   ],
   "source": [
    "from chessbot import config\n",
    "from chessbot.train.trainer import SimpleTrainer\n",
    "\n",
    "# Set up the config\n",
    "cfg = config.get_config()\n",
    "\n",
    "cfg.train.num_rounds = 1\n",
    "cfg.train.batch_size = 64\n",
    "cfg.train.lr = 0.0003\n",
    "cfg.train.device = 'cuda'\n",
    "cfg.train.output_dir = '/home/kage/chess_workspace/ChessBot-Battleground/examples/model_example/'\n",
    "\n",
    "cfg.dataset.size_train = 1\n",
    "cfg.dataset.size_test = 1\n",
    "\n",
    "cfg.model.model_file = '/home/kage/chess_workspace/ChessBot-Battleground/examples/model_example/simple_chessnet.py'\n"
   ]
  },
  {
   "cell_type": "code",
   "execution_count": 3,
   "metadata": {},
   "outputs": [
    {
     "name": "stdout",
     "output_type": "stream",
     "text": [
      "Using cfg: {'model': {'model_hub': '../../hub/', 'model_file': '/home/kage/chess_workspace/ChessBot-Battleground/examples/model_example/simple_chessnet.py', 'name': 'simple_chessnet'}, 'dataset': {'train_path': '/home/kage/chess_workspace/PGN_dataset/Dataset-new/train', 'test_path': '/home/kage/chess_workspace/PGN_dataset/Dataset-new/test', 'size_train': 1, 'size_test': 1, 'num_threads': 1}, 'train': {'num_rounds': 1, 'batch_size': 64, 'lr': 0.0003, 'min_lr': 5e-05, 'validation_every': 20000, 'scheduler': 'cosine', 'warmup_lr': 5e-05, 'warmup_iters': 200, 'warmup_strategy': 'cos', 'scheduler_iters': 100000, 'optimizer': 'adamw', 'compile': True, 'amp': 'no', 'grad_clip': 1.0, 'grad_accum': 0, 'device': 'cuda', 'output_dir': '/home/kage/chess_workspace/ChessBot-Battleground/examples/model_example/'}, 'logging': {'log_every': 200, 'wandb': False, 'wandb_project': 'chessbot'}}\n"
     ]
    },
    {
     "name": "stderr",
     "output_type": "stream",
     "text": [
      "Rounds:   0%|          | 0/1 [00:00<?, ?it/s]"
     ]
    },
    {
     "name": "stdout",
     "output_type": "stream",
     "text": [
      "Starting round 0\n"
     ]
    },
    {
     "name": "stderr",
     "output_type": "stream",
     "text": [
      "Rounds: 100%|██████████| 1/1 [02:33<00:00, 153.51s/it]\n"
     ]
    }
   ],
   "source": [
    "trainer = SimpleTrainer(cfg)\n",
    "print(f\"Using cfg: {cfg}\")\n",
    "trainer.train()\n"
   ]
  },
  {
   "cell_type": "code",
   "execution_count": null,
   "metadata": {},
   "outputs": [],
   "source": []
  }
 ],
 "metadata": {
  "kernelspec": {
   "display_name": "chessvenv",
   "language": "python",
   "name": "python3"
  },
  "language_info": {
   "codemirror_mode": {
    "name": "ipython",
    "version": 3
   },
   "file_extension": ".py",
   "mimetype": "text/x-python",
   "name": "python",
   "nbconvert_exporter": "python",
   "pygments_lexer": "ipython3",
   "version": "3.11.11"
  }
 },
 "nbformat": 4,
 "nbformat_minor": 2
}

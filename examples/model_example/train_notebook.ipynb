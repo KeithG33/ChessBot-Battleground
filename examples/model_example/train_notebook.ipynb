{
 "cells": [
  {
   "cell_type": "markdown",
   "metadata": {},
   "source": [
    "### ChessBot Package - Example Training Notebook"
   ]
  },
  {
   "cell_type": "code",
   "execution_count": 1,
   "metadata": {},
   "outputs": [],
   "source": [
    "import os\n",
    "import sys\n",
    "\n",
    "sys.path.append('../../')\n",
    "import chessbot"
   ]
  },
  {
   "cell_type": "code",
   "execution_count": 2,
   "metadata": {},
   "outputs": [
    {
     "name": "stderr",
     "output_type": "stream",
     "text": [
      "/home/kage/chess_workspace/chessvenv/lib/python3.11/site-packages/tqdm/auto.py:21: TqdmWarning: IProgress not found. Please update jupyter and ipywidgets. See https://ipywidgets.readthedocs.io/en/stable/user_install.html\n",
      "  from .autonotebook import tqdm as notebook_tqdm\n"
     ]
    }
   ],
   "source": [
    "from chessbot import config\n",
    "from chessbot.train.trainer import SimpleTrainer\n",
    "\n",
    "# Set up the config\n",
    "cfg = config.get_config()\n",
    "\n",
    "cfg.train.num_rounds = 1\n",
    "cfg.train.batch_size = 64\n",
    "cfg.train.lr = 0.0003\n",
    "cfg.train.device = 'cuda'\n",
    "cfg.train.output_dir = '/home/kage/chess_workspace/ChessBot-Battleground/examples/model_example/'\n",
    "\n",
    "cfg.dataset.size_train = 1\n",
    "cfg.dataset.size_test = 1\n",
    "\n",
    "cfg.model.model_file = '/home/kage/chess_workspace/ChessBot-Battleground/examples/model_example/simple_chessnet.py'\n"
   ]
  },
  {
   "cell_type": "code",
   "execution_count": 3,
   "metadata": {},
   "outputs": [
    {
     "name": "stdout",
     "output_type": "stream",
     "text": [
      "Using cfg: {'model': {'model_hub': '../../hub/', 'model_file': '/home/kage/chess_workspace/ChessBot-Battleground/examples/model_example/simple_chessnet.py', 'name': 'simple_chessnet'}, 'dataset': {'train_path': '/home/kage/chess_workspace/PGN_dataset/Dataset-new/train', 'test_path': '/home/kage/chess_workspace/PGN_dataset/Dataset-new/test', 'size_train': 1, 'size_test': 1, 'num_threads': 1}, 'train': {'num_rounds': 1, 'batch_size': 64, 'lr': 0.0003, 'min_lr': 5e-05, 'validation_every': 20000, 'scheduler': 'cosine', 'warmup_lr': 5e-05, 'warmup_iters': 200, 'warmup_strategy': 'cos', 'scheduler_iters': 100000, 'optimizer': 'adamw', 'compile': True, 'amp': 'no', 'grad_clip': 1.0, 'grad_accum': 0, 'device': 'cuda', 'output_dir': '/home/kage/chess_workspace/ChessBot-Battleground/examples/model_example/'}, 'logging': {'log_every': 200, 'wandb': False, 'wandb_project': 'chessbot'}}\n"
     ]
    },
    {
     "name": "stderr",
     "output_type": "stream",
     "text": [
      "Rounds:   0%|          | 0/1 [00:00<?, ?it/s]"
     ]
    },
    {
     "name": "stdout",
     "output_type": "stream",
     "text": [
      "Starting round 0\n"
     ]
    },
    {
     "name": "stderr",
     "output_type": "stream",
     "text": [
      "Rounds:   0%|          | 0/1 [00:21<?, ?it/s]\n"
     ]
    },
    {
     "ename": "AttributeError",
     "evalue": "'SimpleChessNet' object has no attribute 'policy_loss'",
     "output_type": "error",
     "traceback": [
      "\u001b[0;31m---------------------------------------------------------------------------\u001b[0m",
      "\u001b[0;31mAttributeError\u001b[0m                            Traceback (most recent call last)",
      "Cell \u001b[0;32mIn[3], line 3\u001b[0m\n\u001b[1;32m      1\u001b[0m trainer \u001b[38;5;241m=\u001b[39m SimpleTrainer(cfg)\n\u001b[1;32m      2\u001b[0m \u001b[38;5;28mprint\u001b[39m(\u001b[38;5;124mf\u001b[39m\u001b[38;5;124m\"\u001b[39m\u001b[38;5;124mUsing cfg: \u001b[39m\u001b[38;5;132;01m{\u001b[39;00mcfg\u001b[38;5;132;01m}\u001b[39;00m\u001b[38;5;124m\"\u001b[39m)\n\u001b[0;32m----> 3\u001b[0m \u001b[43mtrainer\u001b[49m\u001b[38;5;241;43m.\u001b[39;49m\u001b[43mtrain\u001b[49m\u001b[43m(\u001b[49m\u001b[43m)\u001b[49m\n",
      "File \u001b[0;32m~/chess_workspace/ChessBot-Battleground/examples/model_example/../../chessbot/train/trainer.py:317\u001b[0m, in \u001b[0;36mSimpleTrainer.train\u001b[0;34m(self)\u001b[0m\n\u001b[1;32m    309\u001b[0m train_loader \u001b[38;5;241m=\u001b[39m DataLoader(\n\u001b[1;32m    310\u001b[0m     train_dataset, \u001b[38;5;28mself\u001b[39m\u001b[38;5;241m.\u001b[39mcfg\u001b[38;5;241m.\u001b[39mtrain\u001b[38;5;241m.\u001b[39mbatch_size, shuffle\u001b[38;5;241m=\u001b[39m\u001b[38;5;28;01mTrue\u001b[39;00m\n\u001b[1;32m    311\u001b[0m )\n\u001b[1;32m    313\u001b[0m \u001b[38;5;28mself\u001b[39m\u001b[38;5;241m.\u001b[39mmodel, \u001b[38;5;28mself\u001b[39m\u001b[38;5;241m.\u001b[39moptimizer, train_loader, \u001b[38;5;28mself\u001b[39m\u001b[38;5;241m.\u001b[39mscheduler \u001b[38;5;241m=\u001b[39m accelerator\u001b[38;5;241m.\u001b[39mprepare(\n\u001b[1;32m    314\u001b[0m     \u001b[38;5;28mself\u001b[39m\u001b[38;5;241m.\u001b[39mmodel, \u001b[38;5;28mself\u001b[39m\u001b[38;5;241m.\u001b[39moptimizer, train_loader, \u001b[38;5;28mself\u001b[39m\u001b[38;5;241m.\u001b[39mscheduler\n\u001b[1;32m    315\u001b[0m )\n\u001b[0;32m--> 317\u001b[0m \u001b[38;5;28;43mself\u001b[39;49m\u001b[38;5;241;43m.\u001b[39;49m\u001b[43mtraining_round\u001b[49m\u001b[43m(\u001b[49m\u001b[43mtrain_loader\u001b[49m\u001b[43m,\u001b[49m\u001b[43m \u001b[49m\u001b[43maccelerator\u001b[49m\u001b[43m)\u001b[49m\n\u001b[1;32m    319\u001b[0m \u001b[38;5;66;03m# Helped reduce memory usage and spikes\u001b[39;00m\n\u001b[1;32m    320\u001b[0m \u001b[38;5;28;01mdel\u001b[39;00m train_dataset, train_loader\n",
      "File \u001b[0;32m~/chess_workspace/ChessBot-Battleground/examples/model_example/../../chessbot/train/trainer.py:226\u001b[0m, in \u001b[0;36mSimpleTrainer.training_round\u001b[0;34m(self, train_loader, accelerator)\u001b[0m\n\u001b[1;32m    223\u001b[0m \u001b[38;5;28;01mwith\u001b[39;00m accelerator\u001b[38;5;241m.\u001b[39maccumulate():\n\u001b[1;32m    224\u001b[0m     policy_output, value_output \u001b[38;5;241m=\u001b[39m \u001b[38;5;28mself\u001b[39m\u001b[38;5;241m.\u001b[39mmodel(state\u001b[38;5;241m.\u001b[39munsqueeze(\u001b[38;5;241m1\u001b[39m))\n\u001b[0;32m--> 226\u001b[0m     policy_loss \u001b[38;5;241m=\u001b[39m \u001b[38;5;28;43mself\u001b[39;49m\u001b[38;5;241;43m.\u001b[39;49m\u001b[43mmodel\u001b[49m\u001b[38;5;241;43m.\u001b[39;49m\u001b[43mpolicy_loss\u001b[49m(policy_output\u001b[38;5;241m.\u001b[39msqueeze(), action)\n\u001b[1;32m    227\u001b[0m     value_loss \u001b[38;5;241m=\u001b[39m \u001b[38;5;28mself\u001b[39m\u001b[38;5;241m.\u001b[39mmodel\u001b[38;5;241m.\u001b[39mvalue_loss(value_output\u001b[38;5;241m.\u001b[39msqueeze(), result)\n\u001b[1;32m    229\u001b[0m     loss \u001b[38;5;241m=\u001b[39m policy_loss \u001b[38;5;241m+\u001b[39m value_loss\n",
      "File \u001b[0;32m~/chess_workspace/chessvenv/lib/python3.11/site-packages/torch/_dynamo/eval_frame.py:220\u001b[0m, in \u001b[0;36mOptimizedModule.__getattr__\u001b[0;34m(self, name)\u001b[0m\n\u001b[1;32m    218\u001b[0m \u001b[38;5;28;01mif\u001b[39;00m name \u001b[38;5;241m==\u001b[39m \u001b[38;5;124m\"\u001b[39m\u001b[38;5;124m_orig_mod\u001b[39m\u001b[38;5;124m\"\u001b[39m:\n\u001b[1;32m    219\u001b[0m     \u001b[38;5;28;01mreturn\u001b[39;00m \u001b[38;5;28mself\u001b[39m\u001b[38;5;241m.\u001b[39m_modules[\u001b[38;5;124m\"\u001b[39m\u001b[38;5;124m_orig_mod\u001b[39m\u001b[38;5;124m\"\u001b[39m]\n\u001b[0;32m--> 220\u001b[0m \u001b[38;5;28;01mreturn\u001b[39;00m \u001b[38;5;28mgetattr\u001b[39m(\u001b[38;5;28mself\u001b[39m\u001b[38;5;241m.\u001b[39m_orig_mod, name)\n",
      "File \u001b[0;32m~/chess_workspace/chessvenv/lib/python3.11/site-packages/torch/nn/modules/module.py:1931\u001b[0m, in \u001b[0;36mModule.__getattr__\u001b[0;34m(self, name)\u001b[0m\n\u001b[1;32m   1929\u001b[0m     \u001b[38;5;28;01mif\u001b[39;00m name \u001b[38;5;129;01min\u001b[39;00m modules:\n\u001b[1;32m   1930\u001b[0m         \u001b[38;5;28;01mreturn\u001b[39;00m modules[name]\n\u001b[0;32m-> 1931\u001b[0m \u001b[38;5;28;01mraise\u001b[39;00m \u001b[38;5;167;01mAttributeError\u001b[39;00m(\n\u001b[1;32m   1932\u001b[0m     \u001b[38;5;124mf\u001b[39m\u001b[38;5;124m\"\u001b[39m\u001b[38;5;124m'\u001b[39m\u001b[38;5;132;01m{\u001b[39;00m\u001b[38;5;28mtype\u001b[39m(\u001b[38;5;28mself\u001b[39m)\u001b[38;5;241m.\u001b[39m\u001b[38;5;18m__name__\u001b[39m\u001b[38;5;132;01m}\u001b[39;00m\u001b[38;5;124m'\u001b[39m\u001b[38;5;124m object has no attribute \u001b[39m\u001b[38;5;124m'\u001b[39m\u001b[38;5;132;01m{\u001b[39;00mname\u001b[38;5;132;01m}\u001b[39;00m\u001b[38;5;124m'\u001b[39m\u001b[38;5;124m\"\u001b[39m\n\u001b[1;32m   1933\u001b[0m )\n",
      "\u001b[0;31mAttributeError\u001b[0m: 'SimpleChessNet' object has no attribute 'policy_loss'"
     ]
    }
   ],
   "source": [
    "trainer = SimpleTrainer(cfg)\n",
    "print(f\"Using cfg: {cfg}\")\n",
    "trainer.train()\n"
   ]
  },
  {
   "cell_type": "code",
   "execution_count": null,
   "metadata": {},
   "outputs": [],
   "source": []
  }
 ],
 "metadata": {
  "kernelspec": {
   "display_name": "chessvenv",
   "language": "python",
   "name": "python3"
  },
  "language_info": {
   "codemirror_mode": {
    "name": "ipython",
    "version": 3
   },
   "file_extension": ".py",
   "mimetype": "text/x-python",
   "name": "python",
   "nbconvert_exporter": "python",
   "pygments_lexer": "ipython3",
   "version": "3.11.11"
  }
 },
 "nbformat": 4,
 "nbformat_minor": 2
}

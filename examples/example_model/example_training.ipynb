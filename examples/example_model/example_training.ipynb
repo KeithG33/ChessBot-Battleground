{
 "cells": [
  {
   "cell_type": "markdown",
   "metadata": {
    "vscode": {
     "languageId": "plaintext"
    }
   },
   "source": [
    "## Example Training Notebook"
   ]
  },
  {
   "cell_type": "markdown",
   "metadata": {},
   "source": [
    "##### Training"
   ]
  },
  {
   "cell_type": "markdown",
   "metadata": {},
   "source": [
    "Only three things needed:\n",
    "1. Dataset\n",
    "2. Config Setup\n",
    "3. Model\n"
   ]
  },
  {
   "cell_type": "code",
   "execution_count": null,
   "metadata": {},
   "outputs": [],
   "source": [
    "%cd ../../\n",
    "import os\n",
    "import chessbot\n",
    "\n",
    "from simple_chessnet import SimpleChessNet\n",
    "from chessbot.train import ChessTrainer\n",
    "\n",
    "cwd = os.getcwd()\n",
    "dataset_path = os.path.join(cwd, 'dataset/test-0.0.0/')\n",
    "\n",
    "cfg = chessbot.config.load_default_cfg()\n",
    "\n",
    "# Dataset\n",
    "cfg.dataset.data_path = dataset_path\n",
    "cfg.dataset.size_train = 1  # How many files to use for each training round. Adjust based on cpu mem\n",
    "cfg.dataset.size_test = 1    # How many files to randomly sample for testing every validation_every iters\n",
    "cfg.dataset.num_threads = 4   # Number of threads to use for data loading\n",
    "\n",
    "# Train\n",
    "cfg.train.rounds = 1\n",
    "cfg.train.epochs = 1 \n",
    "cfg.train.batch_size = 128 # Adjust based on GPU\n",
    "cfg.train.lr = 0.001\n",
    "cfg.train.compile = True\n",
    "cfg.train.amp = 'bf16'\n",
    "\n",
    "cfg.train.validation_every = 100\n",
    "cfg.train.output_dir = 'output'\n",
    "\n",
    "model = SimpleChessNet()\n",
    "trainer = ChessTrainer(cfg, model)\n",
    "trainer.train()"
   ]
  },
  {
   "cell_type": "code",
   "execution_count": null,
   "metadata": {},
   "outputs": [],
   "source": []
  }
 ],
 "metadata": {
  "kernelspec": {
   "display_name": "chessvenv",
   "language": "python",
   "name": "python3"
  },
  "language_info": {
   "codemirror_mode": {
    "name": "ipython",
    "version": 3
   },
   "file_extension": ".py",
   "mimetype": "text/x-python",
   "name": "python",
   "nbconvert_exporter": "python",
   "pygments_lexer": "ipython3",
   "version": "3.11.10"
  }
 },
 "nbformat": 4,
 "nbformat_minor": 2
}

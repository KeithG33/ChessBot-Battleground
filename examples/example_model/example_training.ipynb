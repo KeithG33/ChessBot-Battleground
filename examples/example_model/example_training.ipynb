{
 "cells": [
  {
   "cell_type": "markdown",
   "metadata": {
    "vscode": {
     "languageId": "plaintext"
    }
   },
   "source": [
    "## Example Training Notebook"
   ]
  },
  {
   "cell_type": "markdown",
   "metadata": {},
   "source": [
    "##### Training"
   ]
  },
  {
   "cell_type": "markdown",
   "metadata": {},
   "source": [
    "Only three things needed:\n",
    "1. Dataset\n",
    "2. Config Setup\n",
    "3. Model\n"
   ]
  },
  {
   "cell_type": "code",
   "execution_count": null,
   "metadata": {},
   "outputs": [
    {
     "name": "stderr",
     "output_type": "stream",
     "text": [
      "/home/kage/chess_workspace/chessvenv/lib/python3.11/site-packages/tqdm/auto.py:21: TqdmWarning: IProgress not found. Please update jupyter and ipywidgets. See https://ipywidgets.readthedocs.io/en/stable/user_install.html\n",
      "  from .autonotebook import tqdm as notebook_tqdm\n"
     ]
    },
    {
     "name": "stdout",
     "output_type": "stream",
     "text": [
      "✅ Model validated successfully!\n"
     ]
    },
    {
     "name": "stderr",
     "output_type": "stream",
     "text": [
      "Progress:   0%|          | 0/150 [00:19] "
     ]
    },
    {
     "name": "stdout",
     "output_type": "stream",
     "text": [
      "Loaded 303448 positions\n"
     ]
    },
    {
     "name": "stderr",
     "output_type": "stream",
     "text": [
      "Progress:  17%|█▋        | 25/150 [09:43] , Round=1/3, Epoch=1/2, Iter=25/75, Loss=7.8740, Val Loss=8.0146"
     ]
    }
   ],
   "source": [
    "%cd ../../\n",
    "import os\n",
    "import chessbot\n",
    "\n",
    "from simple_chessnet import SimpleChessNet\n",
    "from chessbot.train import ChessTrainer\n",
    "\n",
    "cwd = os.getcwd()\n",
    "dataset_path = os.path.join(cwd, 'dataset/test-0.0.0/')\n",
    "\n",
    "cfg = chessbot.config.load_default_cfg()\n",
    "\n",
    "# Dataset\n",
    "cfg.dataset.data_path = dataset_path\n",
    "cfg.dataset.size_train = 1  # How many files to use for each training round. Adjust based on cpu mem\n",
    "cfg.dataset.size_test = 1    # How many files to randomly sample for testing every validation_every iters\n",
    "cfg.dataset.num_threads = 4   # Number of threads to use for data loading\n",
    "\n",
    "# Train\n",
    "cfg.train.rounds = 1\n",
    "cfg.train.epochs = 1 \n",
    "cfg.train.batch_size = 128 # Adjust based on GPU\n",
    "cfg.train.lr = 0.001\n",
    "cfg.train.min_lr = 0.0001\n",
    "cfg.train.warmup_lr = 0.0005\n",
    "cfg.train.warmup_iters = 1000\n",
    "cfg.train.compile = True\n",
    "cfg.train.amp = 'bf16'\n",
    "\n",
    "cfg.train.validation_every = 100\n",
    "cfg.train.output_dir = 'output'\n",
    "\n",
    "model = SimpleChessNet()\n",
    "trainer = ChessTrainer(cfg, model)\n",
    "trainer.train()"
   ]
  },
  {
   "cell_type": "code",
   "execution_count": null,
   "metadata": {},
   "outputs": [],
   "source": []
  }
 ],
 "metadata": {
  "kernelspec": {
   "display_name": "chessvenv",
   "language": "python",
   "name": "python3"
  },
  "language_info": {
   "codemirror_mode": {
    "name": "ipython",
    "version": 3
   },
   "file_extension": ".py",
   "mimetype": "text/x-python",
   "name": "python",
   "nbconvert_exporter": "python",
   "pygments_lexer": "ipython3",
   "version": "3.11.10"
  }
 },
 "nbformat": 4,
 "nbformat_minor": 2
}

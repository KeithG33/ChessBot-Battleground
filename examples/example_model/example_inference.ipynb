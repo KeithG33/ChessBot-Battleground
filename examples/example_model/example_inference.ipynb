{
 "cells": [
  {
   "cell_type": "markdown",
   "metadata": {},
   "source": [
    "#### Example Self-Play Inference Notebook\n",
    "\n",
    "Quick start on how to run inference with your trained model, including wrapping it in a tree searching MCTS class"
   ]
  },
  {
   "cell_type": "code",
   "execution_count": null,
   "metadata": {},
   "outputs": [],
   "source": [
    "import sys\n",
    "sys.path.append('../')"
   ]
  },
  {
   "cell_type": "markdown",
   "metadata": {},
   "source": [
    "#### 1. Model inference"
   ]
  },
  {
   "cell_type": "code",
   "execution_count": null,
   "metadata": {},
   "outputs": [],
   "source": [
    "import gym\n",
    "import adversarial_gym\n",
    "from simple_chessnet import SimpleChessNet\n",
    "\n",
    "\n",
    "env = gym.make('Chess-v0', render_mode='human')\n",
    "model = SimpleChessNet()"
   ]
  },
  {
   "cell_type": "markdown",
   "metadata": {},
   "source": [
    "##### Run a game of selfplay"
   ]
  },
  {
   "cell_type": "code",
   "execution_count": null,
   "metadata": {},
   "outputs": [],
   "source": [
    "observation, info = env.reset()\n",
    "done = False\n",
    "\n",
    "while not done:\n",
    "    legal_moves = env.board.legal_moves\n",
    "    action, log_prob = model.get_action(observation[0], legal_moves)\n",
    "    observation, reward, done, truncated, info = env.step(action)\n"
   ]
  },
  {
   "cell_type": "markdown",
   "metadata": {},
   "source": [
    "#### 2. MCTS model inference\n",
    "\n",
    "Wrap your model in the MCTS class "
   ]
  },
  {
   "cell_type": "code",
   "execution_count": null,
   "metadata": {},
   "outputs": [],
   "source": [
    "import gym\n",
    "import adversarial_gym\n",
    "from chessbot.mcts.search import MonteCarloTreeSearch\n",
    "from simple_chessnet import SimpleChessNet\n",
    "\n",
    "\n",
    "env = gym.make('Chess-v0', render_mode='human')\n",
    "model = SimpleChessNet()\n",
    "model_mcts = MonteCarloTreeSearch(env, model)"
   ]
  },
  {
   "cell_type": "markdown",
   "metadata": {},
   "source": [
    "##### Run a game of selfplay"
   ]
  },
  {
   "cell_type": "code",
   "execution_count": null,
   "metadata": {},
   "outputs": [],
   "source": [
    "observation, _ = env.reset()\n",
    "env.render()\n",
    "done = False\n",
    "\n",
    "# How many games to simulate before selecting an action\n",
    "num_simulations = 100\n",
    "\n",
    "while not done:\n",
    "    state = env.get_string_representation()\n",
    "    action_probs, action = model_mcts.search(state, observation, num_simulations=num_simulations)\n",
    "    observation, reward, done, truncated, info = env.step(action)"
   ]
  }
 ],
 "metadata": {
  "kernelspec": {
   "display_name": "chessvenv",
   "language": "python",
   "name": "python3"
  },
  "language_info": {
   "codemirror_mode": {
    "name": "ipython",
    "version": 3
   },
   "file_extension": ".py",
   "mimetype": "text/x-python",
   "name": "python",
   "nbconvert_exporter": "python",
   "pygments_lexer": "ipython3",
   "version": "3.11.11"
  }
 },
 "nbformat": 4,
 "nbformat_minor": 2
}

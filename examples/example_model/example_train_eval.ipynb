{
 "cells": [
  {
   "cell_type": "markdown",
   "metadata": {
    "vscode": {
     "languageId": "plaintext"
    }
   },
   "source": [
    "## Example Training Notebook"
   ]
  },
  {
   "cell_type": "markdown",
   "metadata": {},
   "source": [
    "##### Training"
   ]
  },
  {
   "cell_type": "markdown",
   "metadata": {},
   "source": [
    "Only three things needed:\n",
    "1. Dataset\n",
    "2. Config Setup\n",
    "3. Model\n"
   ]
  },
  {
   "cell_type": "code",
   "execution_count": null,
   "metadata": {},
   "outputs": [],
   "source": [
    "%cd ../../\n",
    "import os\n",
    "import chessbot\n",
    "from omegaconf import OmegaConf\n",
    "\n",
    "from simple_chessnet import SimpleChessNet\n",
    "from chessbot.train import ChessTrainer\n",
    "from chessbot.common import DEFAULT_DATASET_DIR\n",
    "\n",
    "cwd = os.getcwd()\n",
    "dataset_path = os.path.join(cwd, 'dataset/ChessBot-Dataset-0.1.0/')\n",
    "dataset_path = DEFAULT_DATASET_DIR # Can also use this if dataset is in default repo location\n",
    "\n",
    "# Get the default OmegaConf config\n",
    "cfg = chessbot.config.get_cfg()\n",
    "\n",
    "# Alternatively, load a config from a file with omegaconf\n",
    "cfg_load = OmegaConf.load('examples/example_model/config.yaml')\n",
    "\n",
    "# Dataset\n",
    "cfg.dataset.data_path = dataset_path\n",
    "cfg.dataset.size_train = 1  # How many files to use for each training round. Adjust based on cpu mem\n",
    "cfg.dataset.size_test = 1    # How many files to randomly sample for testing every validation_every iters\n",
    "cfg.dataset.num_threads = 4   # Number of threads to use for data loading\n",
    "\n",
    "# Train\n",
    "cfg.train.rounds = 1\n",
    "cfg.train.epochs = 1 \n",
    "cfg.train.batch_size = 128 # Adjust based on GPU\n",
    "cfg.train.lr = 0.001\n",
    "cfg.train.compile = True\n",
    "cfg.train.amp = 'bf16'\n",
    "\n",
    "cfg.train.validation_every = 1\n",
    "cfg.train.output_dir = 'output'\n",
    "\n",
    "model = SimpleChessNet()\n",
    "trainer = ChessTrainer(cfg, model)\n",
    "trainer.train()"
   ]
  },
  {
   "cell_type": "markdown",
   "metadata": {},
   "source": [
    "#### Evaluate Model"
   ]
  },
  {
   "cell_type": "code",
   "execution_count": null,
   "metadata": {},
   "outputs": [],
   "source": [
    "import torch\n",
    "from simple_chessnet import SimpleChessNet\n",
    "\n",
    "from chessbot.models import align_state_dict\n",
    "from chessbot.inference import evaluate_model\n",
    "\n",
    "# Evaluate the model\n",
    "batch_size = 3072\n",
    "num_threads = 15\n",
    "pgn_dir = DEFAULT_DATASET_DIR\n",
    "weights = os.path.join(cfg.train.output_dir, \"model_best\", \"pytorch_model.bin\")\n",
    "\n",
    "model = SimpleChessNet()\n",
    "model.load_weights(weights)\n",
    "model.eval()\n",
    "model = torch.compile(model)\n",
    "\n",
    "evaluate_model(\n",
    "    model, \n",
    "    pgn_dir, \n",
    "    batch_size, \n",
    "    num_threads, \n",
    "    device='cuda')\n"
   ]
  }
 ],
 "metadata": {
  "kernelspec": {
   "display_name": "chessvenv",
   "language": "python",
   "name": "python3"
  },
  "language_info": {
   "codemirror_mode": {
    "name": "ipython",
    "version": 3
   },
   "file_extension": ".py",
   "mimetype": "text/x-python",
   "name": "python",
   "nbconvert_exporter": "python",
   "pygments_lexer": "ipython3",
   "version": "3.11.10"
  }
 },
 "nbformat": 4,
 "nbformat_minor": 2
}

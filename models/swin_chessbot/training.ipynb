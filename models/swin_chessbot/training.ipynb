{
 "cells": [
  {
   "cell_type": "markdown",
   "metadata": {
    "vscode": {
     "languageId": "plaintext"
    }
   },
   "source": [
    "## Example Training Notebook"
   ]
  },
  {
   "cell_type": "markdown",
   "metadata": {},
   "source": [
    "##### Training"
   ]
  },
  {
   "cell_type": "code",
   "execution_count": null,
   "metadata": {},
   "outputs": [],
   "source": []
  },
  {
   "cell_type": "code",
   "execution_count": null,
   "metadata": {},
   "outputs": [],
   "source": [
    "%cd ../../\n",
    "\n",
    "import os\n",
    "import chessbot\n",
    "from chessbot.train import ChessTrainer\n",
    "from chessbot.common import DEFAULT_DATASET_DIR\n",
    "from swin_chessbot import SwinChessBot\n",
    "\n",
    "cwd = os.getcwd()\n",
    "dataset_path = DEFAULT_DATASET_DIR\n",
    "\n",
    "cfg = chessbot.config.get_cfg()\n",
    "\n",
    "# Dataset\n",
    "cfg.dataset.data_path = dataset_path\n",
    "cfg.dataset.size_train = 200\n",
    "cfg.dataset.size_test = 10\n",
    "cfg.dataset.num_processes = 20\n",
    "\n",
    "# Train\n",
    "cfg.train.rounds = 50\n",
    "cfg.train.epochs = 1 \n",
    "cfg.train.batch_size = 3072\n",
    "cfg.train.lr = 0.0001\n",
    "cfg.train.scheduler = 'linear'\n",
    "cfg.train.min_lr = 0.00005\n",
    "cfg.train.warmup_lr = 0.00001\n",
    "cfg.train.warmup_iters = 1000\n",
    "cfg.train.compile = True\n",
    "cfg.train.amp = 'bf16'\n",
    "cfg.train.validation_every = 20_000\n",
    "\n",
    "# cfg.train.output_dir = 'models/swin_chessbot/train/'\n",
    "cfg.train.checkpoint_dir = 'models/swin_chessbot/train/checkpoint'\n",
    "\n",
    "cfg.train.resume_from_checkpoint = True\n",
    "\n",
    "cfg.logging.wandb = True\n",
    "cfg.logging.wandb_run_id = 'f7pzjtef'\n",
    "\n",
    "model = SwinChessBot()\n",
    "trainer = ChessTrainer(cfg, model)\n",
    "trainer.train()"
   ]
  },
  {
   "cell_type": "code",
   "execution_count": null,
   "metadata": {},
   "outputs": [],
   "source": [
    "# import torch\n",
    "# from sgu_chessbot import SpatialGatingChessBot\n",
    "# from chessbot.inference import evaluate_model\n",
    "# from chessbot.models import align_state_dict\n",
    "# from chessbot.common import DEFAULT_DATASET_DIR\n",
    "\n",
    "# # Evaluate the model\n",
    "# batch_size = 3072\n",
    "# num_processes = 15\n",
    "# pgn_dir = DEFAULT_DATASET_DIR\n",
    "# weights = '/home/kage/chess_workspace/ChessBot-Battleground/models/sgu_chessbot/2025-02-19_18-51-experiment/model_latest/pytorch_model.bin'\n",
    "\n",
    "# model = SpatialGatingChessBot()\n",
    "# model.load_state_dict(align_state_dict(torch.load(weights)))\n",
    "# model.eval()\n",
    "# model = torch.compile(model)\n",
    "\n",
    "# evaluate_model(\n",
    "#     model, \n",
    "#     pgn_dir, \n",
    "#     batch_size, \n",
    "#     num_processes, \n",
    "#     device='cuda')\n"
   ]
  },
  {
   "cell_type": "code",
   "execution_count": null,
   "metadata": {},
   "outputs": [],
   "source": []
  },
  {
   "cell_type": "code",
   "execution_count": null,
   "metadata": {},
   "outputs": [],
   "source": []
  }
 ],
 "metadata": {
  "kernelspec": {
   "display_name": "chessvenv",
   "language": "python",
   "name": "python3"
  },
  "language_info": {
   "codemirror_mode": {
    "name": "ipython",
    "version": 3
   },
   "file_extension": ".py",
   "mimetype": "text/x-python",
   "name": "python",
   "nbconvert_exporter": "python",
   "pygments_lexer": "ipython3",
   "version": "3.11.10"
  }
 },
 "nbformat": 4,
 "nbformat_minor": 2
}

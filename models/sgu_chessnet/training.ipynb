{
 "cells": [
  {
   "cell_type": "markdown",
   "metadata": {
    "vscode": {
     "languageId": "plaintext"
    }
   },
   "source": [
    "## Example Training Notebook"
   ]
  },
  {
   "cell_type": "code",
   "execution_count": 1,
   "metadata": {},
   "outputs": [],
   "source": [
    "import sys\n",
    "sys.path.append('../../')"
   ]
  },
  {
   "cell_type": "markdown",
   "metadata": {},
   "source": [
    "##### Training"
   ]
  },
  {
   "cell_type": "code",
   "execution_count": null,
   "metadata": {},
   "outputs": [
    {
     "name": "stderr",
     "output_type": "stream",
     "text": [
      "/home/kage/chess_workspace/chessvenv/lib/python3.11/site-packages/tqdm/auto.py:21: TqdmWarning: IProgress not found. Please update jupyter and ipywidgets. See https://ipywidgets.readthedocs.io/en/stable/user_install.html\n",
      "  from .autonotebook import tqdm as notebook_tqdm\n"
     ]
    },
    {
     "name": "stdout",
     "output_type": "stream",
     "text": [
      "✅ Model validated successfully!\n"
     ]
    },
    {
     "name": "stderr",
     "output_type": "stream",
     "text": [
      "Epoch::   0%|          | 0/230 [00:00] "
     ]
    },
    {
     "name": "stdout",
     "output_type": "stream",
     "text": [
      "Loaded 706085 positions\n"
     ]
    },
    {
     "name": "stderr",
     "output_type": "stream",
     "text": [
      "Validation:   5%|▍         | 11/229 [00:11] , Val Loss=6.9107, Val Ploss=6.3015, Val Vloss=0.6092Loss=inf"
     ]
    }
   ],
   "source": [
    "import os\n",
    "import chessbot\n",
    "\n",
    "# from sgu_chessnet import SpatialGatingChessNet\n",
    "from examples.example_model.simple_chessnet import SimpleChessNet\n",
    "from chessbot.train import ChessTrainer\n",
    "\n",
    "cwd = os.getcwd()\n",
    "dataset_path = os.path.join(cwd, '../../dataset/test-0.0.0/')\n",
    "\n",
    "cfg = chessbot.config.get_config()\n",
    "\n",
    "# Dataset\n",
    "cfg.dataset.data_path = dataset_path\n",
    "cfg.dataset.size_train = 1 \n",
    "cfg.dataset.size_test = 1   \n",
    "cfg.dataset.num_threads = 0\n",
    "\n",
    "# Train\n",
    "cfg.train.rounds = 50\n",
    "cfg.train.epochs = 1 \n",
    "cfg.train.batch_size = 3072 # Adjust based on GPU\n",
    "cfg.train.lr = 0.0003\n",
    "cfg.train.scheduler = 'linear'\n",
    "cfg.train.min_lr = 0.0001\n",
    "cfg.train.warmup_lr = 0.00003\n",
    "cfg.train.warmup_iters = 1000\n",
    "cfg.train.compile = True\n",
    "cfg.train.amp = 'bf16'\n",
    "cfg.train.output_dir = '/home/kage/chess_workspace/ChessBot-Battleground/models/sgu_chessnet'\n",
    "\n",
    "cfg.train.validation_every = 200\n",
    "\n",
    "cfg.logging.wandb = False\n",
    "cfg.train.checkpoint_dir = '/home/kage/chess_workspace/ChessBot-Battleground/models/sgu_chessnet/2025-02-15_12-35-experiment/checkpoint'\n",
    "\n",
    "\n",
    "model = SimpleChessNet()\n",
    "trainer = ChessTrainer(cfg, model)\n",
    "trainer.train()"
   ]
  }
 ],
 "metadata": {
  "kernelspec": {
   "display_name": "chessvenv",
   "language": "python",
   "name": "python3"
  },
  "language_info": {
   "codemirror_mode": {
    "name": "ipython",
    "version": 3
   },
   "file_extension": ".py",
   "mimetype": "text/x-python",
   "name": "python",
   "nbconvert_exporter": "python",
   "pygments_lexer": "ipython3",
   "version": "3.11.11"
  }
 },
 "nbformat": 4,
 "nbformat_minor": 2
}

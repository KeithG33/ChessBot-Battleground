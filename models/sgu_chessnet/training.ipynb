{
 "cells": [
  {
   "cell_type": "markdown",
   "metadata": {
    "vscode": {
     "languageId": "plaintext"
    }
   },
   "source": [
    "## Example Training Notebook"
   ]
  },
  {
   "cell_type": "code",
   "execution_count": 1,
   "metadata": {},
   "outputs": [],
   "source": [
    "import sys\n",
    "sys.path.append('../../')"
   ]
  },
  {
   "cell_type": "markdown",
   "metadata": {},
   "source": [
    "##### Training"
   ]
  },
  {
   "cell_type": "code",
   "execution_count": null,
   "metadata": {},
   "outputs": [
    {
     "name": "stderr",
     "output_type": "stream",
     "text": [
      "/home/kage/chess_workspace/chessvenv/lib/python3.11/site-packages/tqdm/auto.py:21: TqdmWarning: IProgress not found. Please update jupyter and ipywidgets. See https://ipywidgets.readthedocs.io/en/stable/user_install.html\n",
      "  from .autonotebook import tqdm as notebook_tqdm\n"
     ]
    },
    {
     "name": "stdout",
     "output_type": "stream",
     "text": [
      "Num sgu block params: 222350880\n"
     ]
    },
    {
     "name": "stderr",
     "output_type": "stream",
     "text": [
      "\u001b[34m\u001b[1mwandb\u001b[0m: Using wandb-core as the SDK backend. Please refer to https://wandb.me/wandb-core for more information.\n"
     ]
    },
    {
     "name": "stdout",
     "output_type": "stream",
     "text": [
      "✅ Model validated successfully!\n"
     ]
    },
    {
     "name": "stderr",
     "output_type": "stream",
     "text": [
      "\u001b[34m\u001b[1mwandb\u001b[0m: Currently logged in as: \u001b[33mkeithg33\u001b[0m. Use \u001b[1m`wandb login --relogin`\u001b[0m to force relogin\n"
     ]
    },
    {
     "data": {
      "text/html": [
       "Tracking run with wandb version 0.18.2"
      ],
      "text/plain": [
       "<IPython.core.display.HTML object>"
      ]
     },
     "metadata": {},
     "output_type": "display_data"
    },
    {
     "data": {
      "text/html": [
       "Run data is saved locally in <code>/home/kage/chess_workspace/ChessBot-Battleground/models/sgu_chessnet/wandb/run-20250221_154134-03zh0g0j</code>"
      ],
      "text/plain": [
       "<IPython.core.display.HTML object>"
      ]
     },
     "metadata": {},
     "output_type": "display_data"
    },
    {
     "data": {
      "text/html": [
       "Resuming run <strong><a href='https://wandb.ai/keithg33/chessbot/runs/03zh0g0j' target=\"_blank\">SGU-ChessNet24</a></strong> to <a href='https://wandb.ai/keithg33/chessbot' target=\"_blank\">Weights & Biases</a> (<a href='https://wandb.me/run' target=\"_blank\">docs</a>)<br/>"
      ],
      "text/plain": [
       "<IPython.core.display.HTML object>"
      ]
     },
     "metadata": {},
     "output_type": "display_data"
    },
    {
     "data": {
      "text/html": [
       " View project at <a href='https://wandb.ai/keithg33/chessbot' target=\"_blank\">https://wandb.ai/keithg33/chessbot</a>"
      ],
      "text/plain": [
       "<IPython.core.display.HTML object>"
      ]
     },
     "metadata": {},
     "output_type": "display_data"
    },
    {
     "data": {
      "text/html": [
       " View run at <a href='https://wandb.ai/keithg33/chessbot/runs/03zh0g0j' target=\"_blank\">https://wandb.ai/keithg33/chessbot/runs/03zh0g0j</a>"
      ],
      "text/plain": [
       "<IPython.core.display.HTML object>"
      ]
     },
     "metadata": {},
     "output_type": "display_data"
    },
    {
     "name": "stdout",
     "output_type": "stream",
     "text": [
      "Resuming from checkpoint!\n",
      "Resuming from checkpoint using output directory: /home/kage/chess_workspace/ChessBot-Battleground/models/sgu_chessnet/2025-02-19_18-51-experiment\n"
     ]
    },
    {
     "name": "stderr",
     "output_type": "stream",
     "text": [
      "Training:   0%|          | 0/46136 [10:01] "
     ]
    },
    {
     "name": "stdout",
     "output_type": "stream",
     "text": [
      "Loaded 141726873 positions\n"
     ]
    },
    {
     "name": "stderr",
     "output_type": "stream",
     "text": [
      "Validation:  22%|██▏       | 509/2307 [10:14] , Val Loss=2.1745, Val Ploss=1.7963, Val Vloss=0.37830594, Val Loss=inf"
     ]
    }
   ],
   "source": [
    "import os\n",
    "import chessbot\n",
    "\n",
    "from sgu_chessnet import SpatialGatingChessNet\n",
    "from chessbot.train import ChessTrainer\n",
    "\n",
    "cwd = os.getcwd()\n",
    "dataset_path = os.path.join(cwd, '../../dataset/ChessBot-dataset-0.0.0/')\n",
    "\n",
    "cfg = chessbot.config.load_default_cfg()\n",
    "\n",
    "# Dataset\n",
    "cfg.dataset.data_path = dataset_path\n",
    "cfg.dataset.size_train = 200\n",
    "cfg.dataset.size_test = 10\n",
    "cfg.dataset.num_threads = 20\n",
    "\n",
    "# Train\n",
    "cfg.train.rounds = 50\n",
    "cfg.train.epochs = 1 \n",
    "cfg.train.batch_size = 3072\n",
    "cfg.train.lr = 0.0003\n",
    "cfg.train.scheduler = 'linear'\n",
    "cfg.train.min_lr = 0.0001\n",
    "cfg.train.warmup_lr = 0.00003\n",
    "cfg.train.warmup_iters = 1000\n",
    "cfg.train.compile = True\n",
    "cfg.train.amp = 'bf16'\n",
    "cfg.train.validation_every = 20_000\n",
    "\n",
    "cfg.train.checkpoint_dir = '/home/kage/chess_workspace/ChessBot-Battleground/models/sgu_chessnet/2025-02-19_18-51-experiment/checkpoint'\n",
    "cfg.train.resume_from_checkpoint = True\n",
    "\n",
    "cfg.logging.wandb = True\n",
    "cfg.logging.wandb_run_id = '03zh0g0j'\n",
    "\n",
    "\n",
    "model = SpatialGatingChessNet()\n",
    "trainer = ChessTrainer(cfg, model)\n",
    "trainer.train()"
   ]
  }
 ],
 "metadata": {
  "kernelspec": {
   "display_name": "chessvenv",
   "language": "python",
   "name": "python3"
  },
  "language_info": {
   "codemirror_mode": {
    "name": "ipython",
    "version": 3
   },
   "file_extension": ".py",
   "mimetype": "text/x-python",
   "name": "python",
   "nbconvert_exporter": "python",
   "pygments_lexer": "ipython3",
   "version": "3.11.11"
  }
 },
 "nbformat": 4,
 "nbformat_minor": 2
}

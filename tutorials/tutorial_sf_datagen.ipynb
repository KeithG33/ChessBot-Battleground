{
 "cells": [
  {
   "cell_type": "markdown",
   "metadata": {},
   "source": [
    "## Generate Data With Stockfish"
   ]
  },
  {
   "cell_type": "code",
   "execution_count": 1,
   "metadata": {},
   "outputs": [],
   "source": [
    "import sys\n",
    "sys.path.append('../')"
   ]
  },
  {
   "cell_type": "code",
   "execution_count": 2,
   "metadata": {},
   "outputs": [],
   "source": [
    "# Enter path to your stockfish binary\n",
    "FISH_PATH = '/home/kage/chess_workspace/ChessBot-Battleground/stockfish-x86_64-bmi2'"
   ]
  },
  {
   "cell_type": "markdown",
   "metadata": {},
   "source": [
    "##### Example 1: Solve a PGN file or directory of files\n",
    "\n",
    "Generate selfplay sequences moves from the starting position of games in a pgn file. Used to generate solutions\n",
    "to puzzles and studies"
   ]
  },
  {
   "cell_type": "code",
   "execution_count": null,
   "metadata": {},
   "outputs": [
    {
     "name": "stdout",
     "output_type": "stream",
     "text": [
      "Done processing game 1\n"
     ]
    }
   ],
   "source": [
    "from chessbot.data import solve_and_export\n",
    "\n",
    "\n",
    "# Either pgn file or directory containing pgn files\n",
    "pgn_path = ''\n",
    "output_dir = ''\n",
    "\n",
    "solve_and_export(\n",
    "    pgn_path=pgn_path, \n",
    "    output_dir=output_dir, \n",
    "    fish_path=FISH_PATH,\n",
    "    num_proc=2,                 # Number of processes to run\n",
    "    threads=4,                  # Number of stockfish threads to search with\n",
    "    hash_size=1024*4,\n",
    "    max_moves=15                # Maximum number of moves to make from position\n",
    ")"
   ]
  },
  {
   "cell_type": "markdown",
   "metadata": {},
   "source": [
    "##### Example 2: Solve Random Position from Games\n",
    "\n",
    "Will randomly select positions from games in your PGN file and output sequences of stockfish selfplay\n",
    "data"
   ]
  },
  {
   "cell_type": "code",
   "execution_count": null,
   "metadata": {},
   "outputs": [],
   "source": [
    "from chessbot.data import solve_and_export_random_positions \n",
    "\n",
    "\n",
    "# Either pgn file or directory containing pgn files\n",
    "pgn_file = ''\n",
    "output_dir = ''\n",
    "\n",
    "solve_and_export_random_positions(\n",
    "    pgn_path=pgn_path, \n",
    "    output_dir=output_dir,\n",
    "    max_moves=15,                # Maximum number of moves to make from position\n",
    "    fish_path=FISH_PATH,\n",
    "    p=0.25,                      # Probability of solving a position\n",
    "    fr=True,                     # Fischer Random \n",
    "    num_proc=5,\n",
    "    threads=6,                   # Number of stockfish threads to search with\n",
    "    hash_size=1024*3,\n",
    ")\n"
   ]
  },
  {
   "cell_type": "markdown",
   "metadata": {},
   "source": [
    "##### Example 3: Annotate Files\n",
    "\n",
    "Traverses the games in your PGN files and adds stockfish best-move and/or position-evaluation as\n",
    "comments to the files. "
   ]
  },
  {
   "cell_type": "code",
   "execution_count": null,
   "metadata": {},
   "outputs": [],
   "source": [
    "from chessbot.data import annotate_and_export\n",
    "\n",
    "\n",
    "# Either pgn file or directory containing pgn files\n",
    "pgn_path = ''\n",
    "output_dir = ''\n",
    "\n",
    "annotate_and_export(\n",
    "    pgn_path=pgn_path,\n",
    "    output_dir=output_dir,\n",
    "    fish_path=FISH_PATH,\n",
    "    fr=True,\n",
    "    num_proc=5,\n",
    "    threads=6,\n",
    "    hash_size=1024*3,\n",
    ")"
   ]
  }
 ],
 "metadata": {
  "kernelspec": {
   "display_name": "chessvenv",
   "language": "python",
   "name": "python3"
  },
  "language_info": {
   "codemirror_mode": {
    "name": "ipython",
    "version": 3
   },
   "file_extension": ".py",
   "mimetype": "text/x-python",
   "name": "python",
   "nbconvert_exporter": "python",
   "pygments_lexer": "ipython3",
   "version": "3.11.10"
  }
 },
 "nbformat": 4,
 "nbformat_minor": 2
}
